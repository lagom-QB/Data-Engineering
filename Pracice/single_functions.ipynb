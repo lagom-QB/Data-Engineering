{
 "cells": [
  {
   "cell_type": "markdown",
   "metadata": {},
   "source": [
    "## Basics\n",
    "### Reverse String \n",
    "Write a function that takes a string as input and returns the string in reverse order. For example, if the input is \"hello\", the function should return \"olleh\"."
   ]
  },
  {
   "cell_type": "code",
   "execution_count": 2,
   "metadata": {},
   "outputs": [
    {
     "data": {
      "text/plain": [
       "'adnerb'"
      ]
     },
     "execution_count": 2,
     "metadata": {},
     "output_type": "execute_result"
    }
   ],
   "source": [
    "def reverse_string(string):\n",
    "    return string[::-1] # [start:stop:step]"
   ]
  },
  {
   "cell_type": "markdown",
   "metadata": {},
   "source": [
    "### Find Maximum Value \n",
    "Write a function that takes a list of numbers as input and returns the maximum value in the list. For example, if the input list is [5, 8, 2, 10, 3], the function should return 10."
   ]
  },
  {
   "cell_type": "code",
   "execution_count": 4,
   "metadata": {},
   "outputs": [
    {
     "data": {
      "text/plain": [
       "10"
      ]
     },
     "execution_count": 4,
     "metadata": {},
     "output_type": "execute_result"
    }
   ],
   "source": [
    "def find_max_value(list_of_numbers):\n",
    "    return max(list_of_numbers)\n",
    "\n",
    "find_max_value([5,8,2,10,3])"
   ]
  },
  {
   "cell_type": "markdown",
   "metadata": {},
   "source": [
    "### Check Balanced Parentheses \n",
    "Write a function that takes a string containing parentheses as input and returns True if the parentheses in the string are balanced (i.e., each opening parenthesis has a corresponding closing parenthesis), and False otherwise. For example, if the input is \"((()))\", the function should return True, but if the input is \"((())\", the function should return False."
   ]
  },
  {
   "cell_type": "code",
   "execution_count": 6,
   "metadata": {},
   "outputs": [
    {
     "data": {
      "text/plain": [
       "False"
      ]
     },
     "execution_count": 6,
     "metadata": {},
     "output_type": "execute_result"
    }
   ],
   "source": [
    "def check_balanced_brackets(string):\n",
    "    if string.count('(') == string.count(')'):\n",
    "        return True\n",
    "    else:\n",
    "        return False\n",
    "\n",
    "check_balanced_brackets('(()))')"
   ]
  },
  {
   "cell_type": "markdown",
   "metadata": {},
   "source": [
    "### Count Words \n",
    "Write a function that takes a string as input and returns the number of words in the string. A word is defined as a sequence of non-whitespace characters surrounded by whitespace or the start/end of the string. For example, if the input is \"Hello, how are you?\", the function should return 4."
   ]
  },
  {
   "cell_type": "code",
   "execution_count": 9,
   "metadata": {},
   "outputs": [
    {
     "data": {
      "text/plain": [
       "5"
      ]
     },
     "execution_count": 9,
     "metadata": {},
     "output_type": "execute_result"
    }
   ],
   "source": [
    "def count_words(string):\n",
    "    return len(string.split())\n",
    "\n",
    "count_words(\"Hello world, I'm counting words!\")"
   ]
  },
  {
   "cell_type": "markdown",
   "metadata": {},
   "source": [
    "### Compute Factorial \n",
    "Write a function that takes a positive integer as input and returns its factorial. The factorial of a non-negative integer n is the product of all positive integers less than or equal to n. For example, if the input is 5, the function should return 120 (since 5! = 5 * 4 * 3 * 2 * 1 = 120)."
   ]
  },
  {
   "cell_type": "code",
   "execution_count": 10,
   "metadata": {},
   "outputs": [
    {
     "data": {
      "text/plain": [
       "120"
      ]
     },
     "execution_count": 10,
     "metadata": {},
     "output_type": "execute_result"
    }
   ],
   "source": [
    "def compute_factorial(number):\n",
    "    if number == 1:\n",
    "        return 1\n",
    "    else:\n",
    "        return number * compute_factorial(number-1)\n",
    "    \n",
    "compute_factorial(5)"
   ]
  },
  {
   "cell_type": "markdown",
   "metadata": {},
   "source": [
    "---\n",
    "## Intermediate Data\n",
    "### Calculate Mean \n",
    "Write a function that takes a list of numbers as input and returns the mean (average) of the numbers."
   ]
  },
  {
   "cell_type": "code",
   "execution_count": 11,
   "metadata": {},
   "outputs": [
    {
     "data": {
      "text/plain": [
       "3.0"
      ]
     },
     "execution_count": 11,
     "metadata": {},
     "output_type": "execute_result"
    }
   ],
   "source": [
    "def mean(numbers):\n",
    "    return sum(numbers)/len(numbers)\n",
    "\n",
    "mean([1,2,3,4,5])"
   ]
  },
  {
   "cell_type": "markdown",
   "metadata": {},
   "source": [
    "### Normalize Data \n",
    "Write a function that takes a list of numbers as input and returns a normalized version of the list, where each number is divided by the sum of all the numbers in the list."
   ]
  },
  {
   "cell_type": "code",
   "execution_count": 12,
   "metadata": {},
   "outputs": [
    {
     "data": {
      "text/plain": [
       "[0.06666666666666667,\n",
       " 0.13333333333333333,\n",
       " 0.2,\n",
       " 0.26666666666666666,\n",
       " 0.3333333333333333]"
      ]
     },
     "execution_count": 12,
     "metadata": {},
     "output_type": "execute_result"
    }
   ],
   "source": [
    "def normalize_data(numbers):\n",
    "    return [number/sum(numbers) for number in numbers]\n",
    "\n",
    "normalize_data([1,2,3,4,5])"
   ]
  },
  {
   "cell_type": "markdown",
   "metadata": {},
   "source": [
    "### Count Missing Values \n",
    "Write a function that takes a pandas DataFrame as input and returns the count of missing values in each column."
   ]
  },
  {
   "cell_type": "code",
   "execution_count": 14,
   "metadata": {},
   "outputs": [
    {
     "data": {
      "text/plain": [
       "1"
      ]
     },
     "execution_count": 14,
     "metadata": {},
     "output_type": "execute_result"
    }
   ],
   "source": [
    "import pandas as pd\n",
    "import numpy as np\n",
    "\n",
    "def count_missing_values(pandas_df):\n",
    "    return pandas_df.isnull().sum().sum()\n",
    "\n",
    "count_missing_values(pd.DataFrame({'a':[1,2,3,4,5], 'b':[1,2,np.nan,4,5]}))"
   ]
  },
  {
   "cell_type": "markdown",
   "metadata": {},
   "source": [
    "### Calculate TF-IDF \n",
    "Write a function that takes a list of documents as input and returns the TF-IDF (Term Frequency-Inverse Document Frequency) matrix representation of the documents.\n",
    "### Split Train-Test Data \n",
    "Write a function that takes a pandas DataFrame and a specified ratio as input and splits the data into training and testing sets based on the ratio.\n",
    "### Calculate Pearson Correlation \n",
    "Write a function that takes two lists of numbers as input and returns the Pearson correlation coefficient between the two lists.\n",
    "### Perform Principal Component Analysis (PCA) \n",
    "Write a function that takes a numpy array as input and performs PCA to reduce the dimensionality of the data.\n",
    "### Implement K-Means Clustering \n",
    "Write a function that takes a numpy array and a specified number of clusters as input and performs K-means clustering on the data.\n",
    "### Calculate Evaluation Metrics \n",
    "Write a function that takes a list of predicted labels and a list of true labels as input and calculates evaluation metrics such as accuracy, precision, recall, and F1 score.\n",
    "### Perform Cross-Validation \n",
    "Write a function that takes a machine learning model, input features, and target variable as input and performs k-fold cross-validation to evaluate the model's performance.\n",
    "\n",
    "---\n",
    "## Intermediate II: Data Scientist\n",
    "### Data Cleaning \n",
    "Write a function to clean a dataset by handling missing values, outliers, and data inconsistencies.\n",
    "### Feature Engineering \n",
    "Implement a function to create new features from existing ones, such as calculating statistical measures, creating interaction terms, or applying transformations.\n",
    "### Data Visualization \n",
    "Write code to generate visualizations, such as histograms, scatter plots, or heatmaps, to explore and analyze a dataset.\n",
    "### Model Evaluation \n",
    "Implement a function to evaluate the performance of a machine learning model using metrics like accuracy, precision, recall, or F1 score.\n",
    "### Model Selection \n",
    "Write code to compare and select the best model from a set of candidate models based on cross-validation or other evaluation techniques.\n",
    "### Text Processing \n",
    "Implement a function to preprocess text data, such as tokenization, stemming, or removing stop words.\n",
    "### Dimensionality Reduction \n",
    "Write code to perform dimensionality reduction techniques like Principal Component Analysis (PCA) or t-SNE on a dataset.\n",
    "### Time Series Analysis \n",
    "Implement functions to handle time series data, such as calculating rolling averages, identifying trends, or forecasting future values.\n",
    "### Clustering \n",
    "Write code to perform clustering algorithms like K-means or hierarchical clustering on a dataset.\n",
    "### Natural Language Processing (NLP) \n",
    "Implement functions for text processing tasks in NLP, such as sentiment analysis, named entity recognition, or text classification.\n"
   ]
  },
  {
   "cell_type": "code",
   "execution_count": null,
   "metadata": {},
   "outputs": [],
   "source": []
  }
 ],
 "metadata": {
  "kernelspec": {
   "display_name": "Python 3",
   "language": "python",
   "name": "python3"
  },
  "language_info": {
   "codemirror_mode": {
    "name": "ipython",
    "version": 3
   },
   "file_extension": ".py",
   "mimetype": "text/x-python",
   "name": "python",
   "nbconvert_exporter": "python",
   "pygments_lexer": "ipython3",
   "version": "3.10.12"
  },
  "orig_nbformat": 4
 },
 "nbformat": 4,
 "nbformat_minor": 2
}
